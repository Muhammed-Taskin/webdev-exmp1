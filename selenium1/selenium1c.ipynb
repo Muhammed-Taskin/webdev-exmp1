{
 "cells": [
  {
   "cell_type": "code",
   "execution_count": 15,
   "id": "b56d7c69",
   "metadata": {},
   "outputs": [
    {
     "ename": "KeyboardInterrupt",
     "evalue": "",
     "output_type": "error",
     "traceback": [
      "\u001b[31m---------------------------------------------------------------------------\u001b[39m",
      "\u001b[31mKeyboardInterrupt\u001b[39m                         Traceback (most recent call last)",
      "\u001b[36mCell\u001b[39m\u001b[36m \u001b[39m\u001b[32mIn[15]\u001b[39m\u001b[32m, line 21\u001b[39m\n\u001b[32m     18\u001b[39m input_element.send_keys(Keys.ENTER)\u001b[38;5;66;03m#enter tuşuna basıyor.\u001b[39;00m\n\u001b[32m     20\u001b[39m \u001b[38;5;28;01mwhile\u001b[39;00m \u001b[38;5;28;01mTrue\u001b[39;00m:\n\u001b[32m---> \u001b[39m\u001b[32m21\u001b[39m     \u001b[38;5;28;01mcontinue\u001b[39;00m\n\u001b[32m     22\u001b[39m \u001b[38;5;66;03m#google bazen search buton kısmında sıkıntı çıkarabiliyor\u001b[39;00m\n\u001b[32m     23\u001b[39m \u001b[38;5;66;03m#normalde search butone tıklamak için:\u001b[39;00m\n\u001b[32m     24\u001b[39m \u001b[38;5;66;03m#search_button = driver.find_element(By.Name,\"btnk\")\u001b[39;00m\n\u001b[32m     25\u001b[39m \u001b[38;5;66;03m#search_button.click()#search butonuna tıkladık.\u001b[39;00m\n\u001b[32m     26\u001b[39m \u001b[38;5;66;03m# yada ikinci bir neden ise işlemin çok hızlı gerçekleşmesi\u001b[39;00m\n",
      "\u001b[31mKeyboardInterrupt\u001b[39m: "
     ]
    }
   ],
   "source": [
    "from selenium import webdriver\n",
    "from selenium.webdriver.chrome.service import Service\n",
    "from webdriver_manager.chrome import ChromeDriverManager\n",
    "from selenium.webdriver.common.by import By\n",
    "from selenium.webdriver.common.keys import Keys\n",
    "\n",
    "driver = webdriver.Chrome(service=Service(ChromeDriverManager().install()))#webdriver indirildi\n",
    "driver.maximize_window()#chrome penceresini tam ekran yapar\n",
    "\n",
    "driver.get(\"https://www.google.com/\")#sayfa açılır\n",
    "\n",
    "input_element = driver.find_element(By.NAME,\"q\")#html kodları ile web sitesi içinde istediğimiz yeri bulmasını sağlıyoruz.\n",
    "#işin özeti bu kütüphane webde otomasyon sağlamak web scarping işlemleri için kullanılıyor.\n",
    "#input_element1 = driver.find_element(By.CLASS_NAME,\"gLFyf\")\n",
    "#print(input_element)\n",
    "#print(input_element1)\n",
    "input_element.send_keys(\"atil samancioglu\")#search bar içine yazdırıyor.\n",
    "input_element.send_keys(Keys.ENTER)#enter tuşuna basıyor.\n",
    "\n",
    "while True:\n",
    "    continue\n",
    "#google bazen search buton kısmında sıkıntı çıkarabiliyor\n",
    "#normalde search butone tıklamak için:\n",
    "#search_button = driver.find_element(By.Name,\"btnk\")\n",
    "#search_button.click()#search butonuna tıkladık.\n",
    "# yada ikinci bir neden ise işlemin çok hızlı gerçekleşmesi\n"
   ]
  },
  {
   "cell_type": "code",
   "execution_count": null,
   "id": "a2416d27",
   "metadata": {},
   "outputs": [],
   "source": [
    "from selenium import webdriver\n",
    "from selenium.webdriver.chrome.service import Service\n",
    "from selenium.webdriver.common.by import By\n",
    "from webdriver_manager.chrome import ChromeDriverManager\n",
    "from selenium.webdriver.support.wait import WebDriverWait\n",
    "from selenium.webdriver.support import expected_conditions\n",
    "\n",
    "driver = webdriver.Chrome(service=Service(ChromeDriverManager().install()))\n",
    "driver.maximize_window()\n",
    "\n",
    "driver.get(\"https://www.google.com/\")\n",
    "WebDriverWait(driver, 4).until(expected_conditions.visibility_of_element_located((By.NAME, \"q\")))\n",
    "\n",
    "input_element = driver.find_element(By.NAME,\"q\")\n",
    "input_element.send_keys(\"atil samancioglu\")\n",
    "\n",
    "search_button "
   ]
  }
 ],
 "metadata": {
  "kernelspec": {
   "display_name": "Python 3",
   "language": "python",
   "name": "python3"
  },
  "language_info": {
   "codemirror_mode": {
    "name": "ipython",
    "version": 3
   },
   "file_extension": ".py",
   "mimetype": "text/x-python",
   "name": "python",
   "nbconvert_exporter": "python",
   "pygments_lexer": "ipython3",
   "version": "3.13.3"
  }
 },
 "nbformat": 4,
 "nbformat_minor": 5
}
