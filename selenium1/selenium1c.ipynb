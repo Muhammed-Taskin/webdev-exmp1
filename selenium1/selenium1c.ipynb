{
 "cells": [
  {
   "cell_type": "code",
   "execution_count": null,
   "id": "b56d7c69",
   "metadata": {},
   "outputs": [],
   "source": [
    "from selenium import webdriver\n",
    "from selenium.webdriver.chrome.service import Service\n",
    "from webdriver_manager.chrome import ChromeDriverManager\n",
    "from selenium.webdriver.common.by import By\n",
    "from selenium.webdriver.common.keys import Keys\n",
    "\n",
    "driver = webdriver.Chrome(service=Service(ChromeDriverManager().install()))#webdriver indirildi\n",
    "driver.maximize_window()#chrome penceresini tam ekran yapar\n",
    "\n",
    "driver.get(\"https://www.google.com/\")#sayfa açılır\n",
    "\n",
    "input_element = driver.find_element(By.NAME,\"q\")#html kodları ile web sitesi içinde istediğimiz yeri bulmasını sağlıyoruz.\n",
    "#işin özeti bu kütüphane webde otomasyon sağlamak web scarping işlemleri için kullanılıyor.\n",
    "#input_element1 = driver.find_element(By.CLASS_NAME,\"gLFyf\")\n",
    "#print(input_element)\n",
    "#print(input_element1)\n",
    "input_element.send_keys(\"atil samancioglu\")#search bar içine yazdırıyor.\n",
    "input_element.send_keys(Keys.ENTER)#enter tuşuna basıyor.\n",
    "\n",
    "while True:\n",
    "    continue\n",
    "#google bazen search buton kısmında sıkıntı çıkarabiliyor\n",
    "#normalde search butone tıklamak için:\n",
    "#search_button = driver.find_element(By.Name,\"btnk\")\n",
    "#search_button.click()#search butonuna tıkladık.\n",
    "# yada ikinci bir neden ise işlemin çok hızlı gerçekleşmesi\n"
   ]
  },
  {
   "cell_type": "code",
   "execution_count": null,
   "id": "a2416d27",
   "metadata": {},
   "outputs": [],
   "source": [
    "from selenium import webdriver\n",
    "from selenium.webdriver.chrome.service import Service\n",
    "from selenium.webdriver.common.by import By\n",
    "from webdriver_manager.chrome import ChromeDriverManager\n",
    "from selenium.webdriver.support.wait import WebDriverWait\n",
    "from selenium.webdriver.support import expected_conditions\n",
    "\n",
    "driver = webdriver.Chrome(service=Service(ChromeDriverManager().install()))\n",
    "driver.maximize_window()\n",
    "\n",
    "driver.get(\"https://www.google.com/\")# sayfayı açtık\n",
    "WebDriverWait(driver, 4).until(expected_conditions.visibility_of_element_located((By.NAME, \"q\")))#arama kısmı gözükene kadar maximum 4 saniye beklemesini söyledik\n",
    "\n",
    "input_element = driver.find_element(By.NAME,\"q\")\n",
    "input_element.send_keys(\"atil samancioglu\")# ardından arama kısmına yazdırdık.\n",
    "\n",
    "search_button = driver.find_element(By.NAME, \"btnK\")# arama butonunu name ile bulduk.\n",
    "WebDriverWait(driver, 4).until(expected_conditions.element_to_be_clickable((By.NAME, \"btnK\")))# arama butonu tıklanabilir olana kadar 4 saniye beklemesini söyledik.\n",
    "search_button.click()#search butonuna tıklıyoruz"
   ]
  }
 ],
 "metadata": {
  "kernelspec": {
   "display_name": "Python 3",
   "language": "python",
   "name": "python3"
  },
  "language_info": {
   "codemirror_mode": {
    "name": "ipython",
    "version": 3
   },
   "file_extension": ".py",
   "mimetype": "text/x-python",
   "name": "python",
   "nbconvert_exporter": "python",
   "pygments_lexer": "ipython3",
   "version": "3.13.3"
  }
 },
 "nbformat": 4,
 "nbformat_minor": 5
}
